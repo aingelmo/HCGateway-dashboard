{
 "cells": [
  {
   "cell_type": "markdown",
   "id": "368f4a36",
   "metadata": {},
   "source": [
    "# HCGateway API Client Interactive Test Notebook\n",
    "\n",
    "This notebook demonstrates how to use the `HCGatewayClient` from the project to authenticate and fetch data from the HCGateway API. You can interactively test API calls and inspect the response data format.\n"
   ]
  },
  {
   "cell_type": "code",
   "execution_count": null,
   "id": "04eaf745",
   "metadata": {},
   "outputs": [],
   "source": [
    "# Import required modules\n",
    "import pickle\n",
    "from pathlib import Path\n",
    "\n",
    "from hcgateway_dashboard.api_client import HCGatewayClient\n",
    "from hcgateway_dashboard.config import HCGATEWAY_PASSWORD, HCGATEWAY_USERNAME"
   ]
  },
  {
   "cell_type": "code",
   "execution_count": null,
   "id": "46ec3587",
   "metadata": {},
   "outputs": [],
   "source": [
    "# Initialize the API client\n",
    "client = HCGatewayClient()"
   ]
  },
  {
   "cell_type": "code",
   "execution_count": null,
   "id": "d22cc117",
   "metadata": {},
   "outputs": [],
   "source": [
    "methods = [\n",
    "    \"activeCaloriesBurned\",\n",
    "    \"basalBodyTemperature\",\n",
    "    \"basalMetabolicRate\",\n",
    "    \"bloodGlucose\",\n",
    "    \"bloodPressure\",\n",
    "    \"bodyFat\",\n",
    "    \"bodyTemperature\",\n",
    "    \"boneMass\",\n",
    "    \"cervicalMucus\",\n",
    "    \"distance\",\n",
    "    \"exerciseSession\",\n",
    "    \"elevationGained\",\n",
    "    \"floorsClimbed\",\n",
    "    \"heartRate\",\n",
    "    \"height\",\n",
    "    \"hydration\",\n",
    "    \"leanBodyMass\",\n",
    "    \"menstruationFlow\",\n",
    "    \"menstruationPeriod\",\n",
    "    \"nutrition\",\n",
    "    \"ovulationTest\",\n",
    "    \"oxygenSaturation\",\n",
    "    \"power\",\n",
    "    \"respiratoryRate\",\n",
    "    \"restingHeartRate\",\n",
    "    \"sleepSession\",\n",
    "    \"speed\",\n",
    "    \"steps\",\n",
    "    \"stepsCadence\",\n",
    "    \"totalCaloriesBurned\",\n",
    "    \"vo2Max\",\n",
    "    \"weight\",\n",
    "    \"wheelchairPushes\",\n",
    "]\n",
    "\n",
    "responses = {}\n",
    "for m in methods:\n",
    "    try:\n",
    "        resp = client.fetch_data(m, {}, HCGATEWAY_USERNAME, HCGATEWAY_PASSWORD)\n",
    "        responses[m] = resp\n",
    "    except Exception as e:  # noqa: BLE001\n",
    "        responses[m] = f\"Error: {e}\""
   ]
  },
  {
   "cell_type": "code",
   "execution_count": null,
   "id": "1f40c5f5",
   "metadata": {},
   "outputs": [],
   "source": [
    "respones_path = Path(\"../data/responses.pkl\")\n",
    "\n",
    "with respones_path.open(\"wb\") as f:\n",
    "    f.write(pickle.dumps(responses))\n",
    "\n",
    "\n",
    "with respones_path.open(\"rb\") as f:\n",
    "    test = pickle.loads(f.read())  # noqa: S301"
   ]
  },
  {
   "cell_type": "code",
   "execution_count": null,
   "id": "515da3e0",
   "metadata": {},
   "outputs": [],
   "source": []
  }
 ],
 "metadata": {
  "kernelspec": {
   "display_name": "HCGateway-dashboard",
   "language": "python",
   "name": "python3"
  },
  "language_info": {
   "codemirror_mode": {
    "name": "ipython",
    "version": 3
   },
   "file_extension": ".py",
   "mimetype": "text/x-python",
   "name": "python",
   "nbconvert_exporter": "python",
   "pygments_lexer": "ipython3",
   "version": "3.13.3"
  }
 },
 "nbformat": 4,
 "nbformat_minor": 5
}
